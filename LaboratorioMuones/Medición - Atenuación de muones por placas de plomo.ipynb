{
 "cells": [
  {
   "cell_type": "code",
   "execution_count": 2,
   "metadata": {
    "collapsed": false
   },
   "outputs": [],
   "source": [
    "using DataArrays, DataFrames, Gadfly, Distributions, LinearLeastSquares, Grid"
   ]
  },
  {
   "cell_type": "code",
   "execution_count": null,
   "metadata": {
    "collapsed": true
   },
   "outputs": [],
   "source": [
    "df = DataFrame()\n",
    "df[:EspesorPlomo] = [550, 570, 590, 610, 630, 650, 670, 690, 710, \n",
    "730, 750, 770, 790, 810, 830, 850]\n",
    "df[:Medicion1] = [4,7,12,62,60,110,92,110,128,130,143,154,161,190,192,213]\n",
    "df[:Medicion2] = [5,18,18,26,93,89,93,132,140,140,134,161,147,148,196,167]\n",
    "df[:Medicion3] = [3,21,37,30,72,85,92,128,139,138,146,159,157,178,184,185]\n",
    "df[:Medicion4] = [11,3,13,29,59,104,96,131,140,168,156,162,174,184,191,178]\n",
    "df[:Medicion5] = [3,10,20,32,57,98,101,130,152,153,154,173,154,163,156,193]\n",
    "df[:Promedio] = [(df[:Medicion1][1]+df[:Medicion2][1]+df[:Medicion3][1]+df[:Medicion4][1]+df[:Medicion5][1])/5,\n",
    "    (df[:Medicion1][2]+df[:Medicion2][2]+df[:Medicion3][2]+df[:Medicion4][2]+df[:Medicion5][2])/5,\n",
    "    (df[:Medicion1][3]+df[:Medicion2][3]+df[:Medicion3][3]+df[:Medicion4][3]+df[:Medicion5][3])/5,\n",
    "    (df[:Medicion1][4]+df[:Medicion2][4]+df[:Medicion3][4]+df[:Medicion4][4]+df[:Medicion5][4])/5,\n",
    "    (df[:Medicion1][5]+df[:Medicion2][5]+df[:Medicion3][5]+df[:Medicion4][5]+df[:Medicion5][5])/5,\n",
    "    (df[:Medicion1][6]+df[:Medicion2][6]+df[:Medicion3][6]+df[:Medicion4][6]+df[:Medicion5][6])/5,\n",
    "    (df[:Medicion1][7]+df[:Medicion2][7]+df[:Medicion3][7]+df[:Medicion4][7]+df[:Medicion5][7])/5,\n",
    "    (df[:Medicion1][8]+df[:Medicion2][8]+df[:Medicion3][8]+df[:Medicion4][8]+df[:Medicion5][8])/5,\n",
    "    (df[:Medicion1][9]+df[:Medicion2][9]+df[:Medicion3][9]+df[:Medicion4][9]+df[:Medicion5][9])/5,\n",
    "    (df[:Medicion1][10]+df[:Medicion2][10]+df[:Medicion3][10]+df[:Medicion4][10]+df[:Medicion5][10])/5,\n",
    "    (df[:Medicion1][11]+df[:Medicion2][11]+df[:Medicion3][11]+df[:Medicion4][11]+df[:Medicion5][11])/5,\n",
    "    (df[:Medicion1][12]+df[:Medicion2][12]+df[:Medicion3][12]+df[:Medicion4][12]+df[:Medicion5][12])/5,\n",
    "    (df[:Medicion1][13]+df[:Medicion2][13]+df[:Medicion3][13]+df[:Medicion4][13]+df[:Medicion5][13])/5,\n",
    "    (df[:Medicion1][14]+df[:Medicion2][14]+df[:Medicion3][14]+df[:Medicion4][14]+df[:Medicion5][14])/5,\n",
    "    (df[:Medicion1][15]+df[:Medicion2][15]+df[:Medicion3][15]+df[:Medicion4][15]+df[:Medicion5][15])/5,\n",
    "    (df[:Medicion1][16]+df[:Medicion2][16]+df[:Medicion3][16]+df[:Medicion4][16]+df[:Medicion5][16])/5]\n",
    "df[:Error] = [trunc(std([df[:Medicion1][1],df[:Medicion2][1],df[:Medicion3][1],df[:Medicion4][1],df[:Medicion5][1]]),1),\n",
    "    trunc(std([df[:Medicion1][2],df[:Medicion2][2],df[:Medicion3][2],df[:Medicion4][2],df[:Medicion5][2]]),1),\n",
    "    trunc(std([df[:Medicion1][3],df[:Medicion2][3],df[:Medicion3][3],df[:Medicion4][3],df[:Medicion5][3]]),1),\n",
    "    trunc(std([df[:Medicion1][4],df[:Medicion2][4],df[:Medicion3][4],df[:Medicion4][4],df[:Medicion5][4]]),1),\n",
    "    trunc(std([df[:Medicion1][5],df[:Medicion2][5],df[:Medicion3][5],df[:Medicion4][5],df[:Medicion5][5]]),1),\n",
    "    trunc(std([df[:Medicion1][6],df[:Medicion2][6],df[:Medicion3][6],df[:Medicion4][6],df[:Medicion5][6]]),1),\n",
    "    trunc(std([df[:Medicion1][7],df[:Medicion2][7],df[:Medicion3][7],df[:Medicion4][7],df[:Medicion5][7]]),1),\n",
    "    trunc(std([df[:Medicion1][8],df[:Medicion2][8],df[:Medicion3][8],df[:Medicion4][8],df[:Medicion5][8]]),1),\n",
    "    trunc(std([df[:Medicion1][9],df[:Medicion2][9],df[:Medicion3][9],df[:Medicion4][9],df[:Medicion5][9]]),1),\n",
    "    trunc(std([df[:Medicion1][10],df[:Medicion2][10],df[:Medicion3][10],df[:Medicion4][10],df[:Medicion5][10]]),1),\n",
    "    trunc(std([df[:Medicion1][11],df[:Medicion2][11],df[:Medicion3][11],df[:Medicion4][11],df[:Medicion5][11]]),1),\n",
    "    trunc(std([df[:Medicion1][12],df[:Medicion2][12],df[:Medicion3][12],df[:Medicion4][12],df[:Medicion5][12]]),1),\n",
    "    trunc(std([df[:Medicion1][13],df[:Medicion2][13],df[:Medicion3][13],df[:Medicion4][13],df[:Medicion5][13]]),1),\n",
    "    trunc(std([df[:Medicion1][14],df[:Medicion2][14],df[:Medicion3][14],df[:Medicion4][14],df[:Medicion5][14]]),1),\n",
    "    trunc(std([df[:Medicion1][15],df[:Medicion2][15],df[:Medicion3][15],df[:Medicion4][15],df[:Medicion5][15]]),1),\n",
    "    trunc(std([df[:Medicion1][16],df[:Medicion2][16],df[:Medicion3][16],df[:Medicion4][16],df[:Medicion5][16]]),1)]\n",
    "df"
   ]
  },
  {
   "cell_type": "code",
   "execution_count": 23,
   "metadata": {
    "collapsed": false
   },
   "outputs": [
    {
     "data": {
      "text/plain": [
       "1.3451854182690988"
      ]
     },
     "execution_count": 23,
     "metadata": {},
     "output_type": "execute_result"
    }
   ],
   "source": [
    "std([14,12,13,10,10])\n",
    "\n",
    "std([6,8,9,6,8,9,9])"
   ]
  }
 ],
 "metadata": {
  "kernelspec": {
   "display_name": "Julia 0.5.0-dev",
   "language": "julia",
   "name": "julia-0.5"
  },
  "language_info": {
   "file_extension": ".jl",
   "mimetype": "application/julia",
   "name": "julia",
   "version": "0.5.0"
  }
 },
 "nbformat": 4,
 "nbformat_minor": 0
}
